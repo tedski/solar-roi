{
 "cells": [
  {
   "cell_type": "markdown",
   "id": "fde8a8ce-0ed4-4909-8b0c-2e23bbbbfc11",
   "metadata": {},
   "source": [
    "# Comparing Solar Generation to Usage Data\n",
    "\n",
    "In order to calculate the payback period of our solar installation, we need to first determine what it will generate.  We have solar radiation data from our weather station in watts per square meter with 5-minute resolution.  We have usage data from the utility in kilowatt-hours with 15-minute resolution.  We can use these to calculate how much solar we would have generated for a given time period in order to calculate the amount of power usage that would be offset by solar."
   ]
  },
  {
   "cell_type": "code",
   "execution_count": null,
   "id": "bd3f9e8a-063d-447f-8f72-2807690cd7f3",
   "metadata": {
    "tags": []
   },
   "outputs": [],
   "source": [
    "import pandas as pd\n",
    "from tqdm.notebook import tqdm\n",
    "import pytz"
   ]
  },
  {
   "cell_type": "markdown",
   "id": "2d50014d-2aee-4a69-af9a-d1435b51cde4",
   "metadata": {},
   "source": [
    "## Getting our data\n",
    "\n",
    "We can get our solar data from our weather station.  AmbientWeather provides a csv export feature which is documented [here](https://ambientweather.com/faqs/question/view/id/1807/).  We selected a year of data for the best representation.\n",
    "\n",
    "We can get our usage data from the utility.  The process for getting a csv of usage data is outlined in the [Green Button Download My Data](https://www.pge.com/en/save-energy-and-money/energy-usage-and-tips/understand-my-usage/energy-data-hub.html) section of [this document](https://www.pge.com/en/save-energy-and-money/energy-usage-and-tips/understand-my-usage/energy-data-hub.html)."
   ]
  },
  {
   "cell_type": "code",
   "execution_count": null,
   "id": "933331d5-2b98-4be7-9f41-780d7eab3bd3",
   "metadata": {
    "tags": []
   },
   "outputs": [],
   "source": [
    "solar_data = pd.read_csv('../data/raw/Solar ROI - ambient-weather-20230203-20240130.csv')\n",
    "usage_data = pd.read_csv('../data/raw/Solar ROI - pge_electric_interval_data_0627600496_2023-01-30_to_2024-01-30.csv')"
   ]
  },
  {
   "cell_type": "markdown",
   "id": "a44d4351-6765-474b-9bba-cc84f646de12",
   "metadata": {},
   "source": [
    "We need to normalize the times and dates in our datasets.  Our solar data is in UTC and the `Date` column is a complete timestamp.  Each record in solar data is a measurement at that point in time.\n",
    "\n",
    "On the other hand, the usage data is already in local time, but each record represents a time window.  The column `DATE` represents the year-month-day and `START TIME` and `END TIME` represent the start and end of the time window, expressed in 24-hour clock without leading zeroes."
   ]
  },
  {
   "cell_type": "code",
   "execution_count": null,
   "id": "0cb3c2da-8156-4123-9833-20daf1907468",
   "metadata": {
    "tags": []
   },
   "outputs": [],
   "source": [
    "# Convert the 'date' column in both datasets to datetime objects and localize to America/Los_Angeles timezone\n",
    "solar_data['Date'] = pd.to_datetime(solar_data['Date'], utc=True, errors='coerce').dt.tz_convert('America/Los_Angeles')\n",
    "usage_data['DATE'] = pd.to_datetime(usage_data['DATE'], errors='coerce').dt.tz_localize('America/Los_Angeles', ambiguous='NaT')\n",
    "\n",
    "# Convert the 'START TIME' and 'END TIME' columns to datetime objects\n",
    "usage_data['START TIME'] = pd.to_datetime(usage_data['START TIME'], format='%H:%M').dt.time\n",
    "usage_data['END TIME'] = pd.to_datetime(usage_data['END TIME'], format='%H:%M').dt.time"
   ]
  },
  {
   "cell_type": "markdown",
   "id": "c1235625-003c-4221-8141-e712e97f9e0b",
   "metadata": {},
   "source": [
    "## Calculating Solar Generation\n",
    "\n",
    "Now we have solar generation for points in time expressed in watts per square meter and we have usage in 15 minute time windows expressed in kilowatt hours.  We need to calculate how much solar energy we would generate in each 15 minute window.  We'll start by averaging the generation using all solar datapoints within the usage time window.  Of course, we don't get to use all of that radiation, so we'll apply some coefficients.  The solar panels we're considering are 20.3% efficient.  The rest of the system (inverter, optimizers, etc) are about 95% efficent.  We'll need to adjust for that.  We then need the total area of the photovoltaic cells.  Each panel is about 1.97 square meters large.  We'll have 16 panels, so we use 31.52 square meters as our area.\n",
    "\n",
    "Using these coefficients, we can calculate the amount of energy generated in each time window and add that to our usage data.  Once we have that, we can calculate our offsets.\n",
    "\n",
    "We calculate the adjusted usage by subtracting the solar generation from the original usage. If the result is negative (i.e., the solar generation is greater than the usage), we set it to zero. This ensures that we don't have negative adjusted usage.\n",
    "\n",
    "We calculate the remaining solar generation that can be sold to the grid by subtracting the adjusted usage from the solar generation. If the result is negative (i.e., the adjusted usage is greater than the solar generation), we set it to zero. This ensures that we don't have negative grid sell values."
   ]
  },
  {
   "cell_type": "code",
   "execution_count": null,
   "id": "3571c745-f1e5-4a2f-a68b-ab888a6aff00",
   "metadata": {
    "tags": []
   },
   "outputs": [],
   "source": [
    "solar_panel_efficiency = 0.203\n",
    "system_efficiency = 0.95\n",
    "solar_panel_surface_area = 31.52  # in square meters\n",
    "\n",
    "def calculate_solar_generated(row):\n",
    "    relevant_solar_data = solar_data[\n",
    "        (solar_data['Date'].dt.date == row['DATE'].date()) &\n",
    "        (solar_data['Date'].dt.time >= row['START TIME']) &\n",
    "        (solar_data['Date'].dt.time <= row['END TIME'])\n",
    "    ]\n",
    "    \n",
    "    average_solar_radiation = relevant_solar_data['Solar Radiation (W/m^2)'].mean()\n",
    "    usage_duration_hours = (pd.to_datetime(row['END TIME'].strftime('%H:%M:%S')) - pd.to_datetime(row['START TIME'].strftime('%H:%M:%S'))).seconds / 3600\n",
    "    \n",
    "    # Adjusted solar_generated with efficiency considerations and surface area\n",
    "    solar_generated = average_solar_radiation * solar_panel_efficiency * system_efficiency * solar_panel_surface_area * usage_duration_hours\n",
    "    \n",
    "    return solar_generated / 1000  # Convert from Wh to kWh\n",
    "\n",
    "# Apply the function to create the 'solar_generated' column with tqdm_notebook for progress bar\n",
    "tqdm.pandas()\n",
    "usage_data['solar_generated'] = usage_data.progress_apply(calculate_solar_generated, axis=1)\n",
    "\n",
    "# Calculate usage_adjusted and grid_sell columns\n",
    "usage_data['usage_adjusted'] = usage_data.apply(lambda row: max(row['USAGE'] - row['solar_generated'], 0), axis=1)\n",
    "usage_data['grid_sell'] = usage_data.apply(lambda row: max(row['solar_generated'] - row['usage_adjusted'], 0), axis=1)\n",
    "\n",
    "# Save our progress\n",
    "usage_data.to_csv('../data/processed/Solar ROI - usage_data_with_generation.csv')"
   ]
  }
 ],
 "metadata": {
  "kernelspec": {
   "display_name": "Python 3 (ipykernel)",
   "language": "python",
   "name": "python3"
  },
  "language_info": {
   "codemirror_mode": {
    "name": "ipython",
    "version": 3
   },
   "file_extension": ".py",
   "mimetype": "text/x-python",
   "name": "python",
   "nbconvert_exporter": "python",
   "pygments_lexer": "ipython3",
   "version": "3.11.5"
  }
 },
 "nbformat": 4,
 "nbformat_minor": 5
}
