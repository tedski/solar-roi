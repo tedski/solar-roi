{
 "cells": [
  {
   "cell_type": "markdown",
   "id": "66399954-702f-41e5-867b-8c88ed537548",
   "metadata": {},
   "source": [
    "# Cost Reduction\n",
    "\n",
    "We now see that solar can save a lot on grid consumption, but what we really care about is how much money it'll save.  In this notebook, we'll explore the differences of cost with and without solar.  We'll continue with the processed data from the previous notebook."
   ]
  },
  {
   "cell_type": "code",
   "execution_count": 1,
   "id": "e7ab5886-b57a-4f44-8182-f641dd2b9eb9",
   "metadata": {
    "tags": []
   },
   "outputs": [],
   "source": [
    "import pandas as pd\n",
    "import numpy as np\n",
    "from tqdm.notebook import tqdm\n",
    "\n",
    "usage_data = pd.read_csv('../data/processed/Solar ROI - usage_data_with_generation.csv', parse_dates=['date'])\n",
    "usage_data['start_time'] = pd.to_datetime(usage_data['start_time'], format='%H:%M:%S').dt.time"
   ]
  },
  {
   "cell_type": "markdown",
   "id": "e54e960f-d24b-42c6-aeea-ed21b8ea3566",
   "metadata": {
    "tags": []
   },
   "source": [
    "## Time of Use Calculation\n",
    "\n",
    "We're currently on a the E-TOU-C plan, which is the [Residential Time-of-Use Peak Pricing 4-9 p.m. Every Day](https://www.pge.com/en/account/rate-plans/find-your-best-rate-plan/time-of-use-rate-plans.html#ResTOUplans-item-b206ca04d2) plan.  The structure for energy billing is as follows:\n",
    "\n",
    "For the months October through May:\n",
    "- The baseline is 11 kWh per day; i.e. the first 11 kWh per day are billed at 0.31976 and then 0.40827 thereafter.\n",
    "- However, during the hours from 16:00 to 21:00 each day, the rates are 0.34811 and 0.43662 respectively.\n",
    "\n",
    "For the months of June through September:\n",
    "- The baseline is 9.8 kWh per day; i.e. the first 9.8 kWh per day are billed at 0.34811 and then 0.45589 thereafter.\n",
    "- However, during the hours from 16:00 to 21:00 each day, the rates are 0.45082 and 0.53933 respectively.\n",
    "\n",
    "We'll need to model the rate schedule to calculate our expected costs."
   ]
  },
  {
   "cell_type": "code",
   "execution_count": 2,
   "id": "c16eb06a-7feb-442a-9369-03e180785292",
   "metadata": {
    "tags": []
   },
   "outputs": [
    {
     "data": {
      "application/vnd.jupyter.widget-view+json": {
       "model_id": "c433d49822d5411d95b9e9af0e71d2ac",
       "version_major": 2,
       "version_minor": 0
      },
      "text/plain": [
       "Calculating TOU costs:   0%|          | 0/35136 [00:00<?, ?it/s]"
      ]
     },
     "metadata": {},
     "output_type": "display_data"
    }
   ],
   "source": [
    "def calculate_tou_cost(row):\n",
    "    date, month = row['date'], row['date'].month\n",
    "    start_time, usage = row['start_time'], row['usage']\n",
    "\n",
    "    # Define peak pricing hours\n",
    "    peak_start_time = pd.to_datetime(\"16:00\").time()\n",
    "    peak_end_time = pd.to_datetime(\"21:00\").time()\n",
    "\n",
    "    # Adjust threshold based on time of year\n",
    "    if month in [1, 2, 3, 4, 5, 10, 11, 12]:  # Jan-May, Oct-Dec\n",
    "        threshold = 11\n",
    "\n",
    "        # Adjust rate details for Tier 1 and Tier 2 during peak hours\n",
    "        if peak_start_time <= start_time <= peak_end_time:\n",
    "            rate_tier1 = 0.34811\n",
    "            rate_tier2 = 0.43662\n",
    "        else:  # Off-peak hours\n",
    "            rate_tier1 = 0.31976\n",
    "            rate_tier2 = 0.40827\n",
    "    else:  # Jun-Sep\n",
    "        threshold = 9.8\n",
    "\n",
    "        # Adjust rate details for Tier 1 and Tier 2 during peak hours\n",
    "        if peak_start_time <= start_time <= peak_end_time:\n",
    "            rate_tier1 = 0.45082\n",
    "            rate_tier2 = 0.53933\n",
    "        else:  # Off-peak hours\n",
    "            rate_tier1 = 0.36738\n",
    "            rate_tier2 = 0.45589\n",
    "\n",
    "    # Calculate cost based on tiers and threshold\n",
    "    if usage <= threshold:\n",
    "        cost = usage * rate_tier1\n",
    "    else:\n",
    "        cost = threshold * rate_tier1 + (usage - threshold) * rate_tier2\n",
    "\n",
    "    return cost\n",
    "\n",
    "# Create a new column 'cost_tou' to store the cost for each time window\n",
    "tqdm.pandas(desc=\"Calculating TOU costs\")\n",
    "usage_data['cost_tou'] = usage_data.progress_apply(calculate_tou_cost, axis=1)"
   ]
  },
  {
   "cell_type": "code",
   "execution_count": null,
   "id": "b8fb2e7e-4a76-4eb1-9539-f1926330e3a6",
   "metadata": {},
   "outputs": [],
   "source": []
  }
 ],
 "metadata": {
  "kernelspec": {
   "display_name": "Python 3 (ipykernel)",
   "language": "python",
   "name": "python3"
  },
  "language_info": {
   "codemirror_mode": {
    "name": "ipython",
    "version": 3
   },
   "file_extension": ".py",
   "mimetype": "text/x-python",
   "name": "python",
   "nbconvert_exporter": "python",
   "pygments_lexer": "ipython3",
   "version": "3.11.5"
  }
 },
 "nbformat": 4,
 "nbformat_minor": 5
}
